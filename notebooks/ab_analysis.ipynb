{
 "cells": [
  {
   "cell_type": "markdown",
   "id": "a90fee6c-6c65-4df0-99fd-88be4b57faac",
   "metadata": {},
   "source": [
    "# Data Analysis"
   ]
  },
  {
   "cell_type": "markdown",
   "id": "dfbef337-e45d-46b5-b1c8-b05c09a5aa4f",
   "metadata": {},
   "source": [
    "### Import necessary libraries"
   ]
  },
  {
   "cell_type": "code",
   "execution_count": 2,
   "id": "1ea7b36b-979a-41f8-ba46-256191fe15c8",
   "metadata": {},
   "outputs": [],
   "source": [
    "import pandas as pd\n",
    "import matplotlib.pyplot as plt"
   ]
  },
  {
   "cell_type": "markdown",
   "id": "dd39b387-9071-4ac6-bf99-6a01da467245",
   "metadata": {},
   "source": [
    "### Load prepared data from CSV"
   ]
  },
  {
   "cell_type": "code",
   "execution_count": 3,
   "id": "00cca6fd-bf4a-4fe7-920b-66f7bb6aadb3",
   "metadata": {},
   "outputs": [
    {
     "data": {
      "text/html": [
       "<div>\n",
       "<style scoped>\n",
       "    .dataframe tbody tr th:only-of-type {\n",
       "        vertical-align: middle;\n",
       "    }\n",
       "\n",
       "    .dataframe tbody tr th {\n",
       "        vertical-align: top;\n",
       "    }\n",
       "\n",
       "    .dataframe thead th {\n",
       "        text-align: right;\n",
       "    }\n",
       "</style>\n",
       "<table border=\"1\" class=\"dataframe\">\n",
       "  <thead>\n",
       "    <tr style=\"text-align: right;\">\n",
       "      <th></th>\n",
       "      <th>user_id</th>\n",
       "      <th>install_date</th>\n",
       "      <th>country</th>\n",
       "      <th>test_group</th>\n",
       "      <th>trial</th>\n",
       "      <th>paid</th>\n",
       "      <th>subscription_name</th>\n",
       "      <th>revenue_1m</th>\n",
       "    </tr>\n",
       "  </thead>\n",
       "  <tbody>\n",
       "    <tr>\n",
       "      <th>0</th>\n",
       "      <td>0000dd3fa4702a63d1b76aaffe1ab39b</td>\n",
       "      <td>2023-06-05</td>\n",
       "      <td>US</td>\n",
       "      <td>treatment</td>\n",
       "      <td>0</td>\n",
       "      <td>0</td>\n",
       "      <td>NaN</td>\n",
       "      <td>0.0</td>\n",
       "    </tr>\n",
       "    <tr>\n",
       "      <th>1</th>\n",
       "      <td>0001f27ab7e22228e54c8b2028b43f24</td>\n",
       "      <td>2023-06-07</td>\n",
       "      <td>AU</td>\n",
       "      <td>treatment</td>\n",
       "      <td>0</td>\n",
       "      <td>0</td>\n",
       "      <td>NaN</td>\n",
       "      <td>0.0</td>\n",
       "    </tr>\n",
       "    <tr>\n",
       "      <th>2</th>\n",
       "      <td>0006c5c547801308b36ea3cf669856ae</td>\n",
       "      <td>2023-06-07</td>\n",
       "      <td>AU</td>\n",
       "      <td>treatment</td>\n",
       "      <td>0</td>\n",
       "      <td>0</td>\n",
       "      <td>NaN</td>\n",
       "      <td>0.0</td>\n",
       "    </tr>\n",
       "    <tr>\n",
       "      <th>3</th>\n",
       "      <td>000d1a300263c5db91cbefa3852898a7</td>\n",
       "      <td>2023-06-07</td>\n",
       "      <td>AU</td>\n",
       "      <td>control</td>\n",
       "      <td>0</td>\n",
       "      <td>0</td>\n",
       "      <td>NaN</td>\n",
       "      <td>0.0</td>\n",
       "    </tr>\n",
       "    <tr>\n",
       "      <th>4</th>\n",
       "      <td>000e5e62e8746e467ed9f49ac5de3208</td>\n",
       "      <td>2023-06-06</td>\n",
       "      <td>US</td>\n",
       "      <td>treatment</td>\n",
       "      <td>0</td>\n",
       "      <td>0</td>\n",
       "      <td>NaN</td>\n",
       "      <td>0.0</td>\n",
       "    </tr>\n",
       "  </tbody>\n",
       "</table>\n",
       "</div>"
      ],
      "text/plain": [
       "                            user_id install_date country test_group  trial  \\\n",
       "0  0000dd3fa4702a63d1b76aaffe1ab39b   2023-06-05      US  treatment      0   \n",
       "1  0001f27ab7e22228e54c8b2028b43f24   2023-06-07      AU  treatment      0   \n",
       "2  0006c5c547801308b36ea3cf669856ae   2023-06-07      AU  treatment      0   \n",
       "3  000d1a300263c5db91cbefa3852898a7   2023-06-07      AU    control      0   \n",
       "4  000e5e62e8746e467ed9f49ac5de3208   2023-06-06      US  treatment      0   \n",
       "\n",
       "   paid subscription_name  revenue_1m  \n",
       "0     0               NaN         0.0  \n",
       "1     0               NaN         0.0  \n",
       "2     0               NaN         0.0  \n",
       "3     0               NaN         0.0  \n",
       "4     0               NaN         0.0  "
      ]
     },
     "execution_count": 3,
     "metadata": {},
     "output_type": "execute_result"
    }
   ],
   "source": [
    "df = pd.read_csv(\"../data/ab_cleaned_data.csv\", index_col=0)\n",
    "analysis_df = pd.read_csv(\"../data/ab_analysis_data.csv\", index_col=0)\n",
    "\n",
    "df[\"install_date\"] = pd.to_datetime(df[\"install_date\"])\n",
    "\n",
    "df.head()"
   ]
  },
  {
   "cell_type": "code",
   "execution_count": 273,
   "id": "57c0e5ca-e484-4ed2-bbbe-cc885d4f6ad5",
   "metadata": {},
   "outputs": [
    {
     "name": "stdout",
     "output_type": "stream",
     "text": [
      "<class 'pandas.core.frame.DataFrame'>\n",
      "Index: 15285 entries, 0 to 15284\n",
      "Data columns (total 8 columns):\n",
      " #   Column             Non-Null Count  Dtype         \n",
      "---  ------             --------------  -----         \n",
      " 0   user_id            15285 non-null  object        \n",
      " 1   install_date       15285 non-null  datetime64[ns]\n",
      " 2   country            15285 non-null  object        \n",
      " 3   test_group         15285 non-null  object        \n",
      " 4   trial              15285 non-null  int64         \n",
      " 5   paid               15285 non-null  int64         \n",
      " 6   subscription_name  1723 non-null   object        \n",
      " 7   revenue_1m         15285 non-null  float64       \n",
      "dtypes: datetime64[ns](1), float64(1), int64(2), object(4)\n",
      "memory usage: 1.0+ MB\n"
     ]
    }
   ],
   "source": [
    "df.info()"
   ]
  },
  {
   "cell_type": "markdown",
   "id": "793ef9e3-2a56-49dd-83b0-3af0eee1ba42",
   "metadata": {},
   "source": [
    "## CR Conversion Rate calculating"
   ]
  },
  {
   "cell_type": "code",
   "execution_count": 274,
   "id": "6b835451-0bf7-4fcc-b47c-d8745935e2eb",
   "metadata": {},
   "outputs": [
    {
     "data": {
      "text/html": [
       "<div>\n",
       "<style scoped>\n",
       "    .dataframe tbody tr th:only-of-type {\n",
       "        vertical-align: middle;\n",
       "    }\n",
       "\n",
       "    .dataframe tbody tr th {\n",
       "        vertical-align: top;\n",
       "    }\n",
       "\n",
       "    .dataframe thead th {\n",
       "        text-align: right;\n",
       "    }\n",
       "</style>\n",
       "<table border=\"1\" class=\"dataframe\">\n",
       "  <thead>\n",
       "    <tr style=\"text-align: right;\">\n",
       "      <th></th>\n",
       "      <th>test_group</th>\n",
       "      <th>total_visitors</th>\n",
       "      <th>conversions</th>\n",
       "      <th>trial_starters</th>\n",
       "    </tr>\n",
       "  </thead>\n",
       "  <tbody>\n",
       "    <tr>\n",
       "      <th>0</th>\n",
       "      <td>control</td>\n",
       "      <td>7627</td>\n",
       "      <td>116</td>\n",
       "      <td>925</td>\n",
       "    </tr>\n",
       "    <tr>\n",
       "      <th>1</th>\n",
       "      <td>treatment</td>\n",
       "      <td>7658</td>\n",
       "      <td>149</td>\n",
       "      <td>798</td>\n",
       "    </tr>\n",
       "  </tbody>\n",
       "</table>\n",
       "</div>"
      ],
      "text/plain": [
       "  test_group  total_visitors  conversions  trial_starters\n",
       "0    control            7627          116             925\n",
       "1  treatment            7658          149             798"
      ]
     },
     "execution_count": 274,
     "metadata": {},
     "output_type": "execute_result"
    }
   ],
   "source": [
    "cr_df = analysis_df.copy()\n",
    "\n",
    "cr_df"
   ]
  },
  {
   "cell_type": "code",
   "execution_count": 275,
   "id": "325e0db3-a653-46c6-ae9b-d5501f56873c",
   "metadata": {},
   "outputs": [
    {
     "data": {
      "text/html": [
       "<div>\n",
       "<style scoped>\n",
       "    .dataframe tbody tr th:only-of-type {\n",
       "        vertical-align: middle;\n",
       "    }\n",
       "\n",
       "    .dataframe tbody tr th {\n",
       "        vertical-align: top;\n",
       "    }\n",
       "\n",
       "    .dataframe thead th {\n",
       "        text-align: right;\n",
       "    }\n",
       "</style>\n",
       "<table border=\"1\" class=\"dataframe\">\n",
       "  <thead>\n",
       "    <tr style=\"text-align: right;\">\n",
       "      <th></th>\n",
       "      <th>test_group</th>\n",
       "      <th>total_visitors</th>\n",
       "      <th>conversions</th>\n",
       "      <th>trial_starters</th>\n",
       "      <th>visitor_to_paid_conversion_rate</th>\n",
       "      <th>trial_to_paid_conversion_rate</th>\n",
       "      <th>visitor_to_trial_conversion_rate</th>\n",
       "    </tr>\n",
       "  </thead>\n",
       "  <tbody>\n",
       "    <tr>\n",
       "      <th>0</th>\n",
       "      <td>control</td>\n",
       "      <td>7627</td>\n",
       "      <td>116</td>\n",
       "      <td>925</td>\n",
       "      <td>1.520913</td>\n",
       "      <td>12.540541</td>\n",
       "      <td>12.127966</td>\n",
       "    </tr>\n",
       "    <tr>\n",
       "      <th>1</th>\n",
       "      <td>treatment</td>\n",
       "      <td>7658</td>\n",
       "      <td>149</td>\n",
       "      <td>798</td>\n",
       "      <td>1.945678</td>\n",
       "      <td>18.671679</td>\n",
       "      <td>10.420475</td>\n",
       "    </tr>\n",
       "  </tbody>\n",
       "</table>\n",
       "</div>"
      ],
      "text/plain": [
       "  test_group  total_visitors  conversions  trial_starters  \\\n",
       "0    control            7627          116             925   \n",
       "1  treatment            7658          149             798   \n",
       "\n",
       "   visitor_to_paid_conversion_rate  trial_to_paid_conversion_rate  \\\n",
       "0                         1.520913                      12.540541   \n",
       "1                         1.945678                      18.671679   \n",
       "\n",
       "   visitor_to_trial_conversion_rate  \n",
       "0                         12.127966  \n",
       "1                         10.420475  "
      ]
     },
     "execution_count": 275,
     "metadata": {},
     "output_type": "execute_result"
    }
   ],
   "source": [
    "# Conversion Rate from a Visitor to Paid\n",
    "# Conversion Rate CR = (Total Conversions / Total Visitors) * 100%\n",
    "\n",
    "cr_df[\"visitor_to_paid_conversion_rate\"] = (\n",
    "    cr_df[\"conversions\"] / cr_df[\"total_visitors\"]\n",
    ") * 100\n",
    "\n",
    "# Conversion Rate from a Tial to Paid\n",
    "cr_df[\"trial_to_paid_conversion_rate\"] = (\n",
    "    cr_df[\"conversions\"] / cr_df[\"trial_starters\"]\n",
    ") * 100\n",
    "\n",
    "# Conversion Rate from a Visitor to Trial (Trial Signup Conversion Rate)\n",
    "cr_df[\"visitor_to_trial_conversion_rate\"] = (\n",
    "    cr_df[\"trial_starters\"] / cr_df[\"total_visitors\"]\n",
    ") * 100\n",
    "\n",
    "cr_df"
   ]
  },
  {
   "cell_type": "markdown",
   "id": "e2992768-ad4e-4f05-9da9-5e0c51b83a21",
   "metadata": {},
   "source": [
    "### Save CR calculation results as a CSV file"
   ]
  },
  {
   "cell_type": "code",
   "execution_count": 276,
   "id": "b0f0f7b2-6f6f-46f6-8bf6-2c50cbb721e2",
   "metadata": {},
   "outputs": [],
   "source": [
    "cr_df.to_csv(\"../data/ab_conversion_rate_data.csv\")"
   ]
  },
  {
   "cell_type": "markdown",
   "id": "842ecc43-1487-4400-9c28-482b1a5a32f3",
   "metadata": {},
   "source": [
    "## Revenue calculating"
   ]
  },
  {
   "cell_type": "code",
   "execution_count": 277,
   "id": "90db54f2-0eda-4a1f-b5bb-e7544ffe4d7c",
   "metadata": {},
   "outputs": [
    {
     "data": {
      "text/html": [
       "<div>\n",
       "<style scoped>\n",
       "    .dataframe tbody tr th:only-of-type {\n",
       "        vertical-align: middle;\n",
       "    }\n",
       "\n",
       "    .dataframe tbody tr th {\n",
       "        vertical-align: top;\n",
       "    }\n",
       "\n",
       "    .dataframe thead th {\n",
       "        text-align: right;\n",
       "    }\n",
       "</style>\n",
       "<table border=\"1\" class=\"dataframe\">\n",
       "  <thead>\n",
       "    <tr style=\"text-align: right;\">\n",
       "      <th></th>\n",
       "      <th>install_date</th>\n",
       "      <th>trial</th>\n",
       "      <th>paid</th>\n",
       "      <th>revenue_1m</th>\n",
       "    </tr>\n",
       "  </thead>\n",
       "  <tbody>\n",
       "    <tr>\n",
       "      <th>count</th>\n",
       "      <td>7627</td>\n",
       "      <td>7627.000000</td>\n",
       "      <td>7627.000000</td>\n",
       "      <td>7627.000000</td>\n",
       "    </tr>\n",
       "    <tr>\n",
       "      <th>mean</th>\n",
       "      <td>2023-06-04 01:45:09.794152448</td>\n",
       "      <td>0.121280</td>\n",
       "      <td>0.015209</td>\n",
       "      <td>0.091103</td>\n",
       "    </tr>\n",
       "    <tr>\n",
       "      <th>min</th>\n",
       "      <td>2023-06-01 00:00:00</td>\n",
       "      <td>0.000000</td>\n",
       "      <td>0.000000</td>\n",
       "      <td>0.000000</td>\n",
       "    </tr>\n",
       "    <tr>\n",
       "      <th>25%</th>\n",
       "      <td>2023-06-02 00:00:00</td>\n",
       "      <td>0.000000</td>\n",
       "      <td>0.000000</td>\n",
       "      <td>0.000000</td>\n",
       "    </tr>\n",
       "    <tr>\n",
       "      <th>50%</th>\n",
       "      <td>2023-06-04 00:00:00</td>\n",
       "      <td>0.000000</td>\n",
       "      <td>0.000000</td>\n",
       "      <td>0.000000</td>\n",
       "    </tr>\n",
       "    <tr>\n",
       "      <th>75%</th>\n",
       "      <td>2023-06-06 00:00:00</td>\n",
       "      <td>0.000000</td>\n",
       "      <td>0.000000</td>\n",
       "      <td>0.000000</td>\n",
       "    </tr>\n",
       "    <tr>\n",
       "      <th>max</th>\n",
       "      <td>2023-06-07 00:00:00</td>\n",
       "      <td>1.000000</td>\n",
       "      <td>1.000000</td>\n",
       "      <td>5.990000</td>\n",
       "    </tr>\n",
       "    <tr>\n",
       "      <th>std</th>\n",
       "      <td>NaN</td>\n",
       "      <td>0.326473</td>\n",
       "      <td>0.122392</td>\n",
       "      <td>0.733127</td>\n",
       "    </tr>\n",
       "  </tbody>\n",
       "</table>\n",
       "</div>"
      ],
      "text/plain": [
       "                        install_date        trial         paid   revenue_1m\n",
       "count                           7627  7627.000000  7627.000000  7627.000000\n",
       "mean   2023-06-04 01:45:09.794152448     0.121280     0.015209     0.091103\n",
       "min              2023-06-01 00:00:00     0.000000     0.000000     0.000000\n",
       "25%              2023-06-02 00:00:00     0.000000     0.000000     0.000000\n",
       "50%              2023-06-04 00:00:00     0.000000     0.000000     0.000000\n",
       "75%              2023-06-06 00:00:00     0.000000     0.000000     0.000000\n",
       "max              2023-06-07 00:00:00     1.000000     1.000000     5.990000\n",
       "std                              NaN     0.326473     0.122392     0.733127"
      ]
     },
     "execution_count": 277,
     "metadata": {},
     "output_type": "execute_result"
    }
   ],
   "source": [
    "df_control = df[df[\"test_group\"] == \"control\"]\n",
    "\n",
    "df_control.describe()"
   ]
  },
  {
   "cell_type": "code",
   "execution_count": 278,
   "id": "463d8cbf-1116-4001-86ec-0f7a75442402",
   "metadata": {},
   "outputs": [
    {
     "data": {
      "text/html": [
       "<div>\n",
       "<style scoped>\n",
       "    .dataframe tbody tr th:only-of-type {\n",
       "        vertical-align: middle;\n",
       "    }\n",
       "\n",
       "    .dataframe tbody tr th {\n",
       "        vertical-align: top;\n",
       "    }\n",
       "\n",
       "    .dataframe thead th {\n",
       "        text-align: right;\n",
       "    }\n",
       "</style>\n",
       "<table border=\"1\" class=\"dataframe\">\n",
       "  <thead>\n",
       "    <tr style=\"text-align: right;\">\n",
       "      <th></th>\n",
       "      <th>install_date</th>\n",
       "      <th>trial</th>\n",
       "      <th>paid</th>\n",
       "      <th>revenue_1m</th>\n",
       "    </tr>\n",
       "  </thead>\n",
       "  <tbody>\n",
       "    <tr>\n",
       "      <th>count</th>\n",
       "      <td>7658</td>\n",
       "      <td>7658.000000</td>\n",
       "      <td>7658.000000</td>\n",
       "      <td>7658.000000</td>\n",
       "    </tr>\n",
       "    <tr>\n",
       "      <th>mean</th>\n",
       "      <td>2023-06-04 00:17:17.973361408</td>\n",
       "      <td>0.104205</td>\n",
       "      <td>0.019457</td>\n",
       "      <td>0.103467</td>\n",
       "    </tr>\n",
       "    <tr>\n",
       "      <th>min</th>\n",
       "      <td>2023-06-01 00:00:00</td>\n",
       "      <td>0.000000</td>\n",
       "      <td>0.000000</td>\n",
       "      <td>0.000000</td>\n",
       "    </tr>\n",
       "    <tr>\n",
       "      <th>25%</th>\n",
       "      <td>2023-06-02 00:00:00</td>\n",
       "      <td>0.000000</td>\n",
       "      <td>0.000000</td>\n",
       "      <td>0.000000</td>\n",
       "    </tr>\n",
       "    <tr>\n",
       "      <th>50%</th>\n",
       "      <td>2023-06-04 00:00:00</td>\n",
       "      <td>0.000000</td>\n",
       "      <td>0.000000</td>\n",
       "      <td>0.000000</td>\n",
       "    </tr>\n",
       "    <tr>\n",
       "      <th>75%</th>\n",
       "      <td>2023-06-06 00:00:00</td>\n",
       "      <td>0.000000</td>\n",
       "      <td>0.000000</td>\n",
       "      <td>0.000000</td>\n",
       "    </tr>\n",
       "    <tr>\n",
       "      <th>max</th>\n",
       "      <td>2023-06-07 00:00:00</td>\n",
       "      <td>1.000000</td>\n",
       "      <td>1.000000</td>\n",
       "      <td>11.960000</td>\n",
       "    </tr>\n",
       "    <tr>\n",
       "      <th>std</th>\n",
       "      <td>NaN</td>\n",
       "      <td>0.305546</td>\n",
       "      <td>0.138133</td>\n",
       "      <td>0.828453</td>\n",
       "    </tr>\n",
       "  </tbody>\n",
       "</table>\n",
       "</div>"
      ],
      "text/plain": [
       "                        install_date        trial         paid   revenue_1m\n",
       "count                           7658  7658.000000  7658.000000  7658.000000\n",
       "mean   2023-06-04 00:17:17.973361408     0.104205     0.019457     0.103467\n",
       "min              2023-06-01 00:00:00     0.000000     0.000000     0.000000\n",
       "25%              2023-06-02 00:00:00     0.000000     0.000000     0.000000\n",
       "50%              2023-06-04 00:00:00     0.000000     0.000000     0.000000\n",
       "75%              2023-06-06 00:00:00     0.000000     0.000000     0.000000\n",
       "max              2023-06-07 00:00:00     1.000000     1.000000    11.960000\n",
       "std                              NaN     0.305546     0.138133     0.828453"
      ]
     },
     "execution_count": 278,
     "metadata": {},
     "output_type": "execute_result"
    }
   ],
   "source": [
    "df_treatment = df[df[\"test_group\"] == \"treatment\"]\n",
    "\n",
    "df_treatment.describe()"
   ]
  },
  {
   "cell_type": "code",
   "execution_count": 279,
   "id": "a1f32a01-883b-4402-8e8d-2638574142f3",
   "metadata": {},
   "outputs": [
    {
     "data": {
      "text/html": [
       "<div>\n",
       "<style scoped>\n",
       "    .dataframe tbody tr th:only-of-type {\n",
       "        vertical-align: middle;\n",
       "    }\n",
       "\n",
       "    .dataframe tbody tr th {\n",
       "        vertical-align: top;\n",
       "    }\n",
       "\n",
       "    .dataframe thead th {\n",
       "        text-align: right;\n",
       "    }\n",
       "</style>\n",
       "<table border=\"1\" class=\"dataframe\">\n",
       "  <thead>\n",
       "    <tr style=\"text-align: right;\">\n",
       "      <th></th>\n",
       "      <th>user_id</th>\n",
       "      <th>install_date</th>\n",
       "      <th>country</th>\n",
       "      <th>test_group</th>\n",
       "      <th>trial</th>\n",
       "      <th>paid</th>\n",
       "      <th>subscription_name</th>\n",
       "      <th>revenue_1m</th>\n",
       "    </tr>\n",
       "  </thead>\n",
       "  <tbody>\n",
       "    <tr>\n",
       "      <th>0</th>\n",
       "      <td>0000dd3fa4702a63d1b76aaffe1ab39b</td>\n",
       "      <td>2023-06-05</td>\n",
       "      <td>US</td>\n",
       "      <td>treatment</td>\n",
       "      <td>0</td>\n",
       "      <td>0</td>\n",
       "      <td>NaN</td>\n",
       "      <td>0.0</td>\n",
       "    </tr>\n",
       "    <tr>\n",
       "      <th>1</th>\n",
       "      <td>0001f27ab7e22228e54c8b2028b43f24</td>\n",
       "      <td>2023-06-07</td>\n",
       "      <td>AU</td>\n",
       "      <td>treatment</td>\n",
       "      <td>0</td>\n",
       "      <td>0</td>\n",
       "      <td>NaN</td>\n",
       "      <td>0.0</td>\n",
       "    </tr>\n",
       "    <tr>\n",
       "      <th>2</th>\n",
       "      <td>0006c5c547801308b36ea3cf669856ae</td>\n",
       "      <td>2023-06-07</td>\n",
       "      <td>AU</td>\n",
       "      <td>treatment</td>\n",
       "      <td>0</td>\n",
       "      <td>0</td>\n",
       "      <td>NaN</td>\n",
       "      <td>0.0</td>\n",
       "    </tr>\n",
       "    <tr>\n",
       "      <th>3</th>\n",
       "      <td>000d1a300263c5db91cbefa3852898a7</td>\n",
       "      <td>2023-06-07</td>\n",
       "      <td>AU</td>\n",
       "      <td>control</td>\n",
       "      <td>0</td>\n",
       "      <td>0</td>\n",
       "      <td>NaN</td>\n",
       "      <td>0.0</td>\n",
       "    </tr>\n",
       "    <tr>\n",
       "      <th>4</th>\n",
       "      <td>000e5e62e8746e467ed9f49ac5de3208</td>\n",
       "      <td>2023-06-06</td>\n",
       "      <td>US</td>\n",
       "      <td>treatment</td>\n",
       "      <td>0</td>\n",
       "      <td>0</td>\n",
       "      <td>NaN</td>\n",
       "      <td>0.0</td>\n",
       "    </tr>\n",
       "  </tbody>\n",
       "</table>\n",
       "</div>"
      ],
      "text/plain": [
       "                            user_id install_date country test_group  trial  \\\n",
       "0  0000dd3fa4702a63d1b76aaffe1ab39b   2023-06-05      US  treatment      0   \n",
       "1  0001f27ab7e22228e54c8b2028b43f24   2023-06-07      AU  treatment      0   \n",
       "2  0006c5c547801308b36ea3cf669856ae   2023-06-07      AU  treatment      0   \n",
       "3  000d1a300263c5db91cbefa3852898a7   2023-06-07      AU    control      0   \n",
       "4  000e5e62e8746e467ed9f49ac5de3208   2023-06-06      US  treatment      0   \n",
       "\n",
       "   paid subscription_name  revenue_1m  \n",
       "0     0               NaN         0.0  \n",
       "1     0               NaN         0.0  \n",
       "2     0               NaN         0.0  \n",
       "3     0               NaN         0.0  \n",
       "4     0               NaN         0.0  "
      ]
     },
     "execution_count": 279,
     "metadata": {},
     "output_type": "execute_result"
    }
   ],
   "source": [
    "df.head()"
   ]
  },
  {
   "cell_type": "code",
   "execution_count": 280,
   "id": "9efae190-3455-4c23-b270-d9386e63099d",
   "metadata": {},
   "outputs": [
    {
     "data": {
      "text/html": [
       "<div>\n",
       "<style scoped>\n",
       "    .dataframe tbody tr th:only-of-type {\n",
       "        vertical-align: middle;\n",
       "    }\n",
       "\n",
       "    .dataframe tbody tr th {\n",
       "        vertical-align: top;\n",
       "    }\n",
       "\n",
       "    .dataframe thead th {\n",
       "        text-align: right;\n",
       "    }\n",
       "</style>\n",
       "<table border=\"1\" class=\"dataframe\">\n",
       "  <thead>\n",
       "    <tr style=\"text-align: right;\">\n",
       "      <th></th>\n",
       "      <th>test_group</th>\n",
       "      <th>total_visitors</th>\n",
       "      <th>conversions</th>\n",
       "      <th>trial_starters</th>\n",
       "    </tr>\n",
       "  </thead>\n",
       "  <tbody>\n",
       "    <tr>\n",
       "      <th>0</th>\n",
       "      <td>control</td>\n",
       "      <td>7627</td>\n",
       "      <td>116</td>\n",
       "      <td>925</td>\n",
       "    </tr>\n",
       "    <tr>\n",
       "      <th>1</th>\n",
       "      <td>treatment</td>\n",
       "      <td>7658</td>\n",
       "      <td>149</td>\n",
       "      <td>798</td>\n",
       "    </tr>\n",
       "  </tbody>\n",
       "</table>\n",
       "</div>"
      ],
      "text/plain": [
       "  test_group  total_visitors  conversions  trial_starters\n",
       "0    control            7627          116             925\n",
       "1  treatment            7658          149             798"
      ]
     },
     "execution_count": 280,
     "metadata": {},
     "output_type": "execute_result"
    }
   ],
   "source": [
    "revenue_df = analysis_df.copy()\n",
    "\n",
    "revenue_df"
   ]
  },
  {
   "cell_type": "markdown",
   "id": "09f54da5-b9df-4afc-8d00-bd26008e82e0",
   "metadata": {},
   "source": [
    "### Calculate Total Revenue by Groups"
   ]
  },
  {
   "cell_type": "code",
   "execution_count": 281,
   "id": "b62c5f76-d4e9-47d1-88cf-3c9b996ff337",
   "metadata": {},
   "outputs": [
    {
     "data": {
      "text/html": [
       "<div>\n",
       "<style scoped>\n",
       "    .dataframe tbody tr th:only-of-type {\n",
       "        vertical-align: middle;\n",
       "    }\n",
       "\n",
       "    .dataframe tbody tr th {\n",
       "        vertical-align: top;\n",
       "    }\n",
       "\n",
       "    .dataframe thead th {\n",
       "        text-align: right;\n",
       "    }\n",
       "</style>\n",
       "<table border=\"1\" class=\"dataframe\">\n",
       "  <thead>\n",
       "    <tr style=\"text-align: right;\">\n",
       "      <th></th>\n",
       "      <th>test_group</th>\n",
       "      <th>total_visitors</th>\n",
       "      <th>conversions</th>\n",
       "      <th>trial_starters</th>\n",
       "      <th>total_revenue</th>\n",
       "    </tr>\n",
       "  </thead>\n",
       "  <tbody>\n",
       "    <tr>\n",
       "      <th>0</th>\n",
       "      <td>control</td>\n",
       "      <td>7627</td>\n",
       "      <td>116</td>\n",
       "      <td>925</td>\n",
       "      <td>694.84</td>\n",
       "    </tr>\n",
       "    <tr>\n",
       "      <th>1</th>\n",
       "      <td>treatment</td>\n",
       "      <td>7658</td>\n",
       "      <td>149</td>\n",
       "      <td>798</td>\n",
       "      <td>792.35</td>\n",
       "    </tr>\n",
       "  </tbody>\n",
       "</table>\n",
       "</div>"
      ],
      "text/plain": [
       "  test_group  total_visitors  conversions  trial_starters  total_revenue\n",
       "0    control            7627          116             925         694.84\n",
       "1  treatment            7658          149             798         792.35"
      ]
     },
     "execution_count": 281,
     "metadata": {},
     "output_type": "execute_result"
    }
   ],
   "source": [
    "total_revenue_by_group = df.groupby(\"test_group\")[\"revenue_1m\"].sum()\n",
    "\n",
    "revenue_df = revenue_df.merge(\n",
    "    total_revenue_by_group.reset_index(name=\"total_revenue\"),\n",
    "    on=\"test_group\",\n",
    "    how=\"left\",\n",
    ")\n",
    "\n",
    "revenue_df"
   ]
  },
  {
   "cell_type": "code",
   "execution_count": 282,
   "id": "1535cde4-80ee-4548-a1a9-b5b9d9f58060",
   "metadata": {},
   "outputs": [
    {
     "data": {
      "image/png": "[encoded data removed]",
      "text/plain": [
       "<Figure size 1200x800 with 1 Axes>"
      ]
     },
     "metadata": {},
     "output_type": "display_data"
    }
   ],
   "source": [
    "plt.figure(figsize=(12, 8))\n",
    "total_revenue_by_group.plot(kind=\"bar\")\n",
    "plt.title(\"Total Revenue by Test Group\")\n",
    "plt.xlabel(\"Test Group\")\n",
    "plt.ylabel(\"Total Revenue\")\n",
    "plt.xticks(rotation=45)\n",
    "plt.show()"
   ]
  },
  {
   "cell_type": "code",
   "execution_count": 283,
   "id": "5f5eae5e-3f25-4c7e-8f81-1b9d2d78d095",
   "metadata": {},
   "outputs": [
    {
     "data": {
      "image/png": "[encoded data removed]",
      "text/plain": [
       "<Figure size 1200x800 with 1 Axes>"
      ]
     },
     "metadata": {},
     "output_type": "display_data"
    }
   ],
   "source": [
    "revenue_by_country_treatment = df_treatment.groupby(\"country\")[\"revenue_1m\"].sum()\n",
    "\n",
    "plt.figure(figsize=(12, 8))\n",
    "revenue_by_country_treatment.plot(kind=\"bar\")\n",
    "plt.title(\"Revenue by Country for Treatment Test Group\")\n",
    "plt.xlabel(\"Countries\")\n",
    "plt.ylabel(\"Revenue\")\n",
    "plt.xticks(rotation=45)\n",
    "plt.show()"
   ]
  },
  {
   "cell_type": "code",
   "execution_count": 284,
   "id": "265e72ca-f6ac-407e-84b0-780219ec1028",
   "metadata": {},
   "outputs": [
    {
     "data": {
      "image/png": "[encoded data removed]",
      "text/plain": [
       "<Figure size 1200x800 with 1 Axes>"
      ]
     },
     "metadata": {},
     "output_type": "display_data"
    }
   ],
   "source": [
    "revenue_by_country_control = df_control.groupby(\"country\")[\"revenue_1m\"].sum()\n",
    "\n",
    "plt.figure(figsize=(12, 8))\n",
    "revenue_by_country_treatment.plot(kind=\"bar\")\n",
    "plt.title(\"Revenue by Country for Control Test Group\")\n",
    "plt.xlabel(\"Countries\")\n",
    "plt.ylabel(\"Revenue\")\n",
    "plt.xticks(rotation=45)\n",
    "plt.show()"
   ]
  },
  {
   "cell_type": "code",
   "execution_count": 285,
   "id": "c1786b75-4d03-4915-affb-d2de47c4a220",
   "metadata": {},
   "outputs": [
    {
     "data": {
      "text/html": [
       "<div>\n",
       "<style scoped>\n",
       "    .dataframe tbody tr th:only-of-type {\n",
       "        vertical-align: middle;\n",
       "    }\n",
       "\n",
       "    .dataframe tbody tr th {\n",
       "        vertical-align: top;\n",
       "    }\n",
       "\n",
       "    .dataframe thead th {\n",
       "        text-align: right;\n",
       "    }\n",
       "</style>\n",
       "<table border=\"1\" class=\"dataframe\">\n",
       "  <thead>\n",
       "    <tr style=\"text-align: right;\">\n",
       "      <th></th>\n",
       "      <th>user_id</th>\n",
       "      <th>install_date</th>\n",
       "      <th>country</th>\n",
       "      <th>test_group</th>\n",
       "      <th>trial</th>\n",
       "      <th>paid</th>\n",
       "      <th>subscription_name</th>\n",
       "      <th>revenue_1m</th>\n",
       "    </tr>\n",
       "  </thead>\n",
       "  <tbody>\n",
       "    <tr>\n",
       "      <th>3</th>\n",
       "      <td>000d1a300263c5db91cbefa3852898a7</td>\n",
       "      <td>2023-06-07</td>\n",
       "      <td>AU</td>\n",
       "      <td>control</td>\n",
       "      <td>0</td>\n",
       "      <td>0</td>\n",
       "      <td>NaN</td>\n",
       "      <td>0.0</td>\n",
       "    </tr>\n",
       "    <tr>\n",
       "      <th>6</th>\n",
       "      <td>000eb23cf1caf152d9b8d4ec2441e085</td>\n",
       "      <td>2023-06-02</td>\n",
       "      <td>AU</td>\n",
       "      <td>control</td>\n",
       "      <td>0</td>\n",
       "      <td>0</td>\n",
       "      <td>NaN</td>\n",
       "      <td>0.0</td>\n",
       "    </tr>\n",
       "    <tr>\n",
       "      <th>9</th>\n",
       "      <td>002066ee39aacf3dbe4294be1a08bd77</td>\n",
       "      <td>2023-06-06</td>\n",
       "      <td>GB</td>\n",
       "      <td>control</td>\n",
       "      <td>0</td>\n",
       "      <td>0</td>\n",
       "      <td>NaN</td>\n",
       "      <td>0.0</td>\n",
       "    </tr>\n",
       "    <tr>\n",
       "      <th>14</th>\n",
       "      <td>00325ed2425735d08aa2ab3a7347166f</td>\n",
       "      <td>2023-06-06</td>\n",
       "      <td>CA</td>\n",
       "      <td>control</td>\n",
       "      <td>0</td>\n",
       "      <td>0</td>\n",
       "      <td>NaN</td>\n",
       "      <td>0.0</td>\n",
       "    </tr>\n",
       "    <tr>\n",
       "      <th>15</th>\n",
       "      <td>0032f6e3d890cc6956761fbb511c57ec</td>\n",
       "      <td>2023-06-06</td>\n",
       "      <td>US</td>\n",
       "      <td>control</td>\n",
       "      <td>0</td>\n",
       "      <td>0</td>\n",
       "      <td>NaN</td>\n",
       "      <td>0.0</td>\n",
       "    </tr>\n",
       "  </tbody>\n",
       "</table>\n",
       "</div>"
      ],
      "text/plain": [
       "                             user_id install_date country test_group  trial  \\\n",
       "3   000d1a300263c5db91cbefa3852898a7   2023-06-07      AU    control      0   \n",
       "6   000eb23cf1caf152d9b8d4ec2441e085   2023-06-02      AU    control      0   \n",
       "9   002066ee39aacf3dbe4294be1a08bd77   2023-06-06      GB    control      0   \n",
       "14  00325ed2425735d08aa2ab3a7347166f   2023-06-06      CA    control      0   \n",
       "15  0032f6e3d890cc6956761fbb511c57ec   2023-06-06      US    control      0   \n",
       "\n",
       "    paid subscription_name  revenue_1m  \n",
       "3      0               NaN         0.0  \n",
       "6      0               NaN         0.0  \n",
       "9      0               NaN         0.0  \n",
       "14     0               NaN         0.0  \n",
       "15     0               NaN         0.0  "
      ]
     },
     "execution_count": 285,
     "metadata": {},
     "output_type": "execute_result"
    }
   ],
   "source": [
    "df_control.head()"
   ]
  },
  {
   "cell_type": "code",
   "execution_count": 286,
   "id": "794f33c5-9594-4c4c-ab54-64c3caf3f604",
   "metadata": {},
   "outputs": [
    {
     "data": {
      "image/png": "[encoded data removed]",
      "text/plain": [
       "<Figure size 1200x800 with 1 Axes>"
      ]
     },
     "metadata": {},
     "output_type": "display_data"
    }
   ],
   "source": [
    "plt.figure(figsize=(12, 8))\n",
    "plt.plot(df_control.groupby(\"install_date\")[\"revenue_1m\"].sum())\n",
    "plt.plot(df_treatment.groupby(\"install_date\")[\"revenue_1m\"].sum(), c=\"r\")\n",
    "plt.title(\"Revenue by Install Date\")\n",
    "plt.xlabel(\"Install Date\")\n",
    "plt.ylabel(\"Revenue\")\n",
    "plt.xticks(rotation=45)\n",
    "plt.show()"
   ]
  },
  {
   "cell_type": "markdown",
   "id": "dfb59fa6-0daf-4b4b-871e-8aa75ee72f26",
   "metadata": {},
   "source": [
    "### Calculate Average Revenue Per User (ARPU)"
   ]
  },
  {
   "cell_type": "code",
   "execution_count": 287,
   "id": "b9a70949-57ce-4b9e-bd7d-aad0318ed227",
   "metadata": {},
   "outputs": [
    {
     "data": {
      "text/html": [
       "<div>\n",
       "<style scoped>\n",
       "    .dataframe tbody tr th:only-of-type {\n",
       "        vertical-align: middle;\n",
       "    }\n",
       "\n",
       "    .dataframe tbody tr th {\n",
       "        vertical-align: top;\n",
       "    }\n",
       "\n",
       "    .dataframe thead th {\n",
       "        text-align: right;\n",
       "    }\n",
       "</style>\n",
       "<table border=\"1\" class=\"dataframe\">\n",
       "  <thead>\n",
       "    <tr style=\"text-align: right;\">\n",
       "      <th></th>\n",
       "      <th>test_group</th>\n",
       "      <th>total_visitors</th>\n",
       "      <th>conversions</th>\n",
       "      <th>trial_starters</th>\n",
       "      <th>total_revenue</th>\n",
       "      <th>average_revenue_per_user</th>\n",
       "    </tr>\n",
       "  </thead>\n",
       "  <tbody>\n",
       "    <tr>\n",
       "      <th>0</th>\n",
       "      <td>control</td>\n",
       "      <td>7627</td>\n",
       "      <td>116</td>\n",
       "      <td>925</td>\n",
       "      <td>694.84</td>\n",
       "      <td>0.091103</td>\n",
       "    </tr>\n",
       "    <tr>\n",
       "      <th>1</th>\n",
       "      <td>treatment</td>\n",
       "      <td>7658</td>\n",
       "      <td>149</td>\n",
       "      <td>798</td>\n",
       "      <td>792.35</td>\n",
       "      <td>0.103467</td>\n",
       "    </tr>\n",
       "  </tbody>\n",
       "</table>\n",
       "</div>"
      ],
      "text/plain": [
       "  test_group  total_visitors  conversions  trial_starters  total_revenue  \\\n",
       "0    control            7627          116             925         694.84   \n",
       "1  treatment            7658          149             798         792.35   \n",
       "\n",
       "   average_revenue_per_user  \n",
       "0                  0.091103  \n",
       "1                  0.103467  "
      ]
     },
     "execution_count": 287,
     "metadata": {},
     "output_type": "execute_result"
    }
   ],
   "source": [
    "revenue_df[\"average_revenue_per_user\"] = (\n",
    "    revenue_df[\"total_revenue\"] / revenue_df[\"total_visitors\"]\n",
    ")\n",
    "\n",
    "revenue_df"
   ]
  },
  {
   "cell_type": "markdown",
   "id": "d85ca2a6-6f71-4cc9-9483-6dd5fbccf1eb",
   "metadata": {},
   "source": [
    "### Calculate Average Revenue Per Paying User (ARPPU)"
   ]
  },
  {
   "cell_type": "code",
   "execution_count": 288,
   "id": "8283110b-01e2-4833-a4d9-62265f3e73cf",
   "metadata": {},
   "outputs": [
    {
     "data": {
      "text/html": [
       "<div>\n",
       "<style scoped>\n",
       "    .dataframe tbody tr th:only-of-type {\n",
       "        vertical-align: middle;\n",
       "    }\n",
       "\n",
       "    .dataframe tbody tr th {\n",
       "        vertical-align: top;\n",
       "    }\n",
       "\n",
       "    .dataframe thead th {\n",
       "        text-align: right;\n",
       "    }\n",
       "</style>\n",
       "<table border=\"1\" class=\"dataframe\">\n",
       "  <thead>\n",
       "    <tr style=\"text-align: right;\">\n",
       "      <th></th>\n",
       "      <th>test_group</th>\n",
       "      <th>total_visitors</th>\n",
       "      <th>conversions</th>\n",
       "      <th>trial_starters</th>\n",
       "      <th>total_revenue</th>\n",
       "      <th>average_revenue_per_user</th>\n",
       "      <th>average_revenue_per_paying_user</th>\n",
       "    </tr>\n",
       "  </thead>\n",
       "  <tbody>\n",
       "    <tr>\n",
       "      <th>0</th>\n",
       "      <td>control</td>\n",
       "      <td>7627</td>\n",
       "      <td>116</td>\n",
       "      <td>925</td>\n",
       "      <td>694.84</td>\n",
       "      <td>0.091103</td>\n",
       "      <td>5.990000</td>\n",
       "    </tr>\n",
       "    <tr>\n",
       "      <th>1</th>\n",
       "      <td>treatment</td>\n",
       "      <td>7658</td>\n",
       "      <td>149</td>\n",
       "      <td>798</td>\n",
       "      <td>792.35</td>\n",
       "      <td>0.103467</td>\n",
       "      <td>5.317785</td>\n",
       "    </tr>\n",
       "  </tbody>\n",
       "</table>\n",
       "</div>"
      ],
      "text/plain": [
       "  test_group  total_visitors  conversions  trial_starters  total_revenue  \\\n",
       "0    control            7627          116             925         694.84   \n",
       "1  treatment            7658          149             798         792.35   \n",
       "\n",
       "   average_revenue_per_user  average_revenue_per_paying_user  \n",
       "0                  0.091103                         5.990000  \n",
       "1                  0.103467                         5.317785  "
      ]
     },
     "execution_count": 288,
     "metadata": {},
     "output_type": "execute_result"
    }
   ],
   "source": [
    "revenue_df[\"average_revenue_per_paying_user\"] = (\n",
    "    revenue_df[\"total_revenue\"] / revenue_df[\"conversions\"]\n",
    ")\n",
    "\n",
    "revenue_df"
   ]
  },
  {
   "cell_type": "markdown",
   "id": "0d4845a6-477a-4dc4-ae3f-24f9181b3a0d",
   "metadata": {},
   "source": [
    "### Save Revenue Metrics calculation results as a CSV file"
   ]
  },
  {
   "cell_type": "code",
   "execution_count": 289,
   "id": "5239ceca-d34f-430d-84cb-30199921dadd",
   "metadata": {},
   "outputs": [],
   "source": [
    "revenue_df.to_csv(\"../data/ab_revenue_metrics_data.csv\")"
   ]
  }
 ],
 "metadata": {
  "kernelspec": {
   "display_name": "Python 3 (ipykernel)",
   "language": "python",
   "name": "python3"
  },
  "language_info": {
   "codemirror_mode": {
    "name": "ipython",
    "version": 3
   },
   "file_extension": ".py",
   "mimetype": "text/x-python",
   "name": "python",
   "nbconvert_exporter": "python",
   "pygments_lexer": "ipython3",
   "version": "3.12.2"
  }
 },
 "nbformat": 4,
 "nbformat_minor": 5
}
