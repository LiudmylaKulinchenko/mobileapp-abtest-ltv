{
 "cells": [
  {
   "cell_type": "markdown",
   "id": "37efb0c2-c45d-4eb7-ab70-f90ecee008c8",
   "metadata": {},
   "source": [
    "# Data Preparation"
   ]
  },
  {
   "cell_type": "markdown",
   "id": "ca8e3b04-6103-44a8-9a0c-d9ac58826a87",
   "metadata": {},
   "source": [
    "### Import necessary libraries"
   ]
  },
  {
   "cell_type": "code",
   "execution_count": 2,
   "id": "01eafc25-1032-49f6-9c2a-59264b8a22e3",
   "metadata": {},
   "outputs": [],
   "source": [
    "import re\n",
    "\n",
    "import pandas as pd"
   ]
  },
  {
   "cell_type": "markdown",
   "id": "888edfb8-6b11-45ae-a191-7df654fde923",
   "metadata": {},
   "source": [
    "### Load data from the Google Sheet"
   ]
  },
  {
   "cell_type": "code",
   "execution_count": 18,
   "id": "34093d38-7998-43cc-8d03-792b29a1ee2b",
   "metadata": {},
   "outputs": [
    {
     "data": {
      "text/html": [
       "<div>\n",
       "<style scoped>\n",
       "    .dataframe tbody tr th:only-of-type {\n",
       "        vertical-align: middle;\n",
       "    }\n",
       "\n",
       "    .dataframe tbody tr th {\n",
       "        vertical-align: top;\n",
       "    }\n",
       "\n",
       "    .dataframe thead th {\n",
       "        text-align: right;\n",
       "    }\n",
       "</style>\n",
       "<table border=\"1\" class=\"dataframe\">\n",
       "  <thead>\n",
       "    <tr style=\"text-align: right;\">\n",
       "      <th></th>\n",
       "      <th>user_id</th>\n",
       "      <th>event_timestamp</th>\n",
       "      <th>first_purchase_time</th>\n",
       "      <th>cohort_week</th>\n",
       "      <th>product_id</th>\n",
       "      <th>lifetime_months</th>\n",
       "    </tr>\n",
       "  </thead>\n",
       "  <tbody>\n",
       "    <tr>\n",
       "      <th>0</th>\n",
       "      <td>95287b91-85af-4174-9986-aeafb3853bb6</td>\n",
       "      <td>2023-09-21 4:44:40</td>\n",
       "      <td>2023-03-25 4:44:40</td>\n",
       "      <td>2023-03-19</td>\n",
       "      <td>monthly.12.49</td>\n",
       "      <td>6</td>\n",
       "    </tr>\n",
       "    <tr>\n",
       "      <th>1</th>\n",
       "      <td>95287b91-85af-4174-9986-aeafb3853bb6</td>\n",
       "      <td>2023-03-25 4:44:40</td>\n",
       "      <td>2023-03-25 4:44:40</td>\n",
       "      <td>2023-03-19</td>\n",
       "      <td>monthly.12.49</td>\n",
       "      <td>0</td>\n",
       "    </tr>\n",
       "    <tr>\n",
       "      <th>2</th>\n",
       "      <td>95287b91-85af-4174-9986-aeafb3853bb6</td>\n",
       "      <td>2023-04-24 4:44:40</td>\n",
       "      <td>2023-03-25 4:44:40</td>\n",
       "      <td>2023-03-19</td>\n",
       "      <td>monthly.12.49</td>\n",
       "      <td>1</td>\n",
       "    </tr>\n",
       "    <tr>\n",
       "      <th>3</th>\n",
       "      <td>95287b91-85af-4174-9986-aeafb3853bb6</td>\n",
       "      <td>2023-05-24 4:44:40</td>\n",
       "      <td>2023-03-25 4:44:40</td>\n",
       "      <td>2023-03-19</td>\n",
       "      <td>monthly.12.49</td>\n",
       "      <td>2</td>\n",
       "    </tr>\n",
       "    <tr>\n",
       "      <th>4</th>\n",
       "      <td>95287b91-85af-4174-9986-aeafb3853bb6</td>\n",
       "      <td>2023-06-23 4:44:40</td>\n",
       "      <td>2023-03-25 4:44:40</td>\n",
       "      <td>2023-03-19</td>\n",
       "      <td>monthly.12.49</td>\n",
       "      <td>3</td>\n",
       "    </tr>\n",
       "  </tbody>\n",
       "</table>\n",
       "</div>"
      ],
      "text/plain": [
       "                                user_id     event_timestamp  \\\n",
       "0  95287b91-85af-4174-9986-aeafb3853bb6  2023-09-21 4:44:40   \n",
       "1  95287b91-85af-4174-9986-aeafb3853bb6  2023-03-25 4:44:40   \n",
       "2  95287b91-85af-4174-9986-aeafb3853bb6  2023-04-24 4:44:40   \n",
       "3  95287b91-85af-4174-9986-aeafb3853bb6  2023-05-24 4:44:40   \n",
       "4  95287b91-85af-4174-9986-aeafb3853bb6  2023-06-23 4:44:40   \n",
       "\n",
       "  first_purchase_time cohort_week     product_id  lifetime_months  \n",
       "0  2023-03-25 4:44:40  2023-03-19  monthly.12.49                6  \n",
       "1  2023-03-25 4:44:40  2023-03-19  monthly.12.49                0  \n",
       "2  2023-03-25 4:44:40  2023-03-19  monthly.12.49                1  \n",
       "3  2023-03-25 4:44:40  2023-03-19  monthly.12.49                2  \n",
       "4  2023-03-25 4:44:40  2023-03-19  monthly.12.49                3  "
      ]
     },
     "execution_count": 18,
     "metadata": {},
     "output_type": "execute_result"
    }
   ],
   "source": [
    "sheet_id = \"1OHl5u6-31KyQSYHeLJBXAk9Xc4eiLPviXIlc6ycaTM4\"\n",
    "page_id = \"167370872\"\n",
    "\n",
    "df = pd.read_csv(\n",
    "    f\"https://docs.google.com/spreadsheets/d/{sheet_id}/export?gid=167370872&format=csv\"\n",
    ")\n",
    "\n",
    "df.to_csv(\"../data/ltv_raw_data.csv\")\n",
    "\n",
    "df.head()"
   ]
  },
  {
   "cell_type": "markdown",
   "id": "1347227e-f89f-4241-b17f-a9ca40decec5",
   "metadata": {},
   "source": [
    "### Check data for a consistency, NaN values, fix typos in column names"
   ]
  },
  {
   "cell_type": "code",
   "execution_count": 19,
   "id": "6da3fe69-bef2-46d5-88ba-7b3157f2079c",
   "metadata": {},
   "outputs": [
    {
     "data": {
      "text/plain": [
       "Index(['user_id', 'event_timestamp', 'first_purchase_time', 'cohort_week',\n",
       "       'product_id', 'lifetime_months'],\n",
       "      dtype='object')"
      ]
     },
     "execution_count": 19,
     "metadata": {},
     "output_type": "execute_result"
    }
   ],
   "source": [
    "df.rename(columns={\"lifetime_monhts\": \"lifetime_months\"}, inplace=True)\n",
    "df.columns"
   ]
  },
  {
   "cell_type": "code",
   "execution_count": 20,
   "id": "15690cfd-dd97-4d9f-87ff-4ef0c0979dcb",
   "metadata": {},
   "outputs": [
    {
     "name": "stdout",
     "output_type": "stream",
     "text": [
      "<class 'pandas.core.frame.DataFrame'>\n",
      "RangeIndex: 1200 entries, 0 to 1199\n",
      "Data columns (total 6 columns):\n",
      " #   Column               Non-Null Count  Dtype \n",
      "---  ------               --------------  ----- \n",
      " 0   user_id              1200 non-null   object\n",
      " 1   event_timestamp      1200 non-null   object\n",
      " 2   first_purchase_time  1200 non-null   object\n",
      " 3   cohort_week          1200 non-null   object\n",
      " 4   product_id           1200 non-null   object\n",
      " 5   lifetime_months      1200 non-null   int64 \n",
      "dtypes: int64(1), object(5)\n",
      "memory usage: 56.4+ KB\n"
     ]
    }
   ],
   "source": [
    "df.info()"
   ]
  },
  {
   "cell_type": "code",
   "execution_count": 21,
   "id": "fe5d747d-1820-4a98-a1f9-e9330f6a7f54",
   "metadata": {},
   "outputs": [
    {
     "name": "stdout",
     "output_type": "stream",
     "text": [
      "<class 'pandas.core.frame.DataFrame'>\n",
      "RangeIndex: 1200 entries, 0 to 1199\n",
      "Data columns (total 6 columns):\n",
      " #   Column               Non-Null Count  Dtype         \n",
      "---  ------               --------------  -----         \n",
      " 0   user_id              1200 non-null   object        \n",
      " 1   event_timestamp      1200 non-null   datetime64[ns]\n",
      " 2   first_purchase_time  1200 non-null   datetime64[ns]\n",
      " 3   cohort_week          1200 non-null   datetime64[ns]\n",
      " 4   product_id           1200 non-null   object        \n",
      " 5   lifetime_months      1200 non-null   int64         \n",
      "dtypes: datetime64[ns](3), int64(1), object(2)\n",
      "memory usage: 56.4+ KB\n"
     ]
    }
   ],
   "source": [
    "# change event_timestamp, first_purchase_time and cohort_week type to datetime\n",
    "\n",
    "df[[\"event_timestamp\", \"first_purchase_time\", \"cohort_week\"]] = df[\n",
    "    [\"event_timestamp\", \"first_purchase_time\", \"cohort_week\"]\n",
    "].apply(pd.to_datetime)\n",
    "\n",
    "df.info()"
   ]
  },
  {
   "cell_type": "code",
   "execution_count": 22,
   "id": "dca92d96-8d91-49b9-967a-b6a022055ee1",
   "metadata": {},
   "outputs": [
    {
     "data": {
      "text/plain": [
       "array(['monthly.12.49'], dtype=object)"
      ]
     },
     "execution_count": 22,
     "metadata": {},
     "output_type": "execute_result"
    }
   ],
   "source": [
    "# check uniqueness for product_id\n",
    "\n",
    "df[\"product_id\"].unique()"
   ]
  },
  {
   "cell_type": "code",
   "execution_count": 32,
   "id": "17878628-d5b3-45b9-9486-195a681a390c",
   "metadata": {},
   "outputs": [
    {
     "data": {
      "text/html": [
       "<div>\n",
       "<style scoped>\n",
       "    .dataframe tbody tr th:only-of-type {\n",
       "        vertical-align: middle;\n",
       "    }\n",
       "\n",
       "    .dataframe tbody tr th {\n",
       "        vertical-align: top;\n",
       "    }\n",
       "\n",
       "    .dataframe thead th {\n",
       "        text-align: right;\n",
       "    }\n",
       "</style>\n",
       "<table border=\"1\" class=\"dataframe\">\n",
       "  <thead>\n",
       "    <tr style=\"text-align: right;\">\n",
       "      <th></th>\n",
       "      <th>event_timestamp</th>\n",
       "      <th>first_purchase_time</th>\n",
       "      <th>cohort_week</th>\n",
       "      <th>lifetime_months</th>\n",
       "      <th>price</th>\n",
       "      <th>frequency</th>\n",
       "      <th>revenue</th>\n",
       "    </tr>\n",
       "  </thead>\n",
       "  <tbody>\n",
       "    <tr>\n",
       "      <th>count</th>\n",
       "      <td>1200</td>\n",
       "      <td>1200</td>\n",
       "      <td>1200</td>\n",
       "      <td>1200.000000</td>\n",
       "      <td>1.200000e+03</td>\n",
       "      <td>1200.000000</td>\n",
       "      <td>1200.000000</td>\n",
       "    </tr>\n",
       "    <tr>\n",
       "      <th>mean</th>\n",
       "      <td>2023-05-16 22:08:55.034166528</td>\n",
       "      <td>2023-04-03 23:56:55.034166784</td>\n",
       "      <td>2023-03-30 10:40:48</td>\n",
       "      <td>1.430833</td>\n",
       "      <td>1.249000e+01</td>\n",
       "      <td>3.773333</td>\n",
       "      <td>47.128933</td>\n",
       "    </tr>\n",
       "    <tr>\n",
       "      <th>min</th>\n",
       "      <td>2023-03-06 04:55:30</td>\n",
       "      <td>2023-03-06 04:55:30</td>\n",
       "      <td>2023-03-05 00:00:00</td>\n",
       "      <td>0.000000</td>\n",
       "      <td>1.249000e+01</td>\n",
       "      <td>1.000000</td>\n",
       "      <td>12.490000</td>\n",
       "    </tr>\n",
       "    <tr>\n",
       "      <th>25%</th>\n",
       "      <td>2023-04-05 11:13:16.500000</td>\n",
       "      <td>2023-03-17 08:11:44</td>\n",
       "      <td>2023-03-12 00:00:00</td>\n",
       "      <td>0.000000</td>\n",
       "      <td>1.249000e+01</td>\n",
       "      <td>1.000000</td>\n",
       "      <td>12.490000</td>\n",
       "    </tr>\n",
       "    <tr>\n",
       "      <th>50%</th>\n",
       "      <td>2023-05-02 05:23:36.500000</td>\n",
       "      <td>2023-03-31 09:34:10.500000</td>\n",
       "      <td>2023-03-26 00:00:00</td>\n",
       "      <td>1.000000</td>\n",
       "      <td>1.249000e+01</td>\n",
       "      <td>4.000000</td>\n",
       "      <td>49.960000</td>\n",
       "    </tr>\n",
       "    <tr>\n",
       "      <th>75%</th>\n",
       "      <td>2023-06-18 15:04:00.249999872</td>\n",
       "      <td>2023-04-22 06:10:08</td>\n",
       "      <td>2023-04-16 00:00:00</td>\n",
       "      <td>2.000000</td>\n",
       "      <td>1.249000e+01</td>\n",
       "      <td>6.000000</td>\n",
       "      <td>74.940000</td>\n",
       "    </tr>\n",
       "    <tr>\n",
       "      <th>max</th>\n",
       "      <td>2023-10-14 06:00:06</td>\n",
       "      <td>2023-05-07 14:00:39</td>\n",
       "      <td>2023-04-30 00:00:00</td>\n",
       "      <td>7.000000</td>\n",
       "      <td>1.249000e+01</td>\n",
       "      <td>8.000000</td>\n",
       "      <td>99.920000</td>\n",
       "    </tr>\n",
       "    <tr>\n",
       "      <th>std</th>\n",
       "      <td>NaN</td>\n",
       "      <td>NaN</td>\n",
       "      <td>NaN</td>\n",
       "      <td>1.787329</td>\n",
       "      <td>3.554195e-15</td>\n",
       "      <td>2.411805</td>\n",
       "      <td>30.123443</td>\n",
       "    </tr>\n",
       "  </tbody>\n",
       "</table>\n",
       "</div>"
      ],
      "text/plain": [
       "                     event_timestamp            first_purchase_time  \\\n",
       "count                           1200                           1200   \n",
       "mean   2023-05-16 22:08:55.034166528  2023-04-03 23:56:55.034166784   \n",
       "min              2023-03-06 04:55:30            2023-03-06 04:55:30   \n",
       "25%       2023-04-05 11:13:16.500000            2023-03-17 08:11:44   \n",
       "50%       2023-05-02 05:23:36.500000     2023-03-31 09:34:10.500000   \n",
       "75%    2023-06-18 15:04:00.249999872            2023-04-22 06:10:08   \n",
       "max              2023-10-14 06:00:06            2023-05-07 14:00:39   \n",
       "std                              NaN                            NaN   \n",
       "\n",
       "               cohort_week  lifetime_months         price    frequency  \\\n",
       "count                 1200      1200.000000  1.200000e+03  1200.000000   \n",
       "mean   2023-03-30 10:40:48         1.430833  1.249000e+01     3.773333   \n",
       "min    2023-03-05 00:00:00         0.000000  1.249000e+01     1.000000   \n",
       "25%    2023-03-12 00:00:00         0.000000  1.249000e+01     1.000000   \n",
       "50%    2023-03-26 00:00:00         1.000000  1.249000e+01     4.000000   \n",
       "75%    2023-04-16 00:00:00         2.000000  1.249000e+01     6.000000   \n",
       "max    2023-04-30 00:00:00         7.000000  1.249000e+01     8.000000   \n",
       "std                    NaN         1.787329  3.554195e-15     2.411805   \n",
       "\n",
       "           revenue  \n",
       "count  1200.000000  \n",
       "mean     47.128933  \n",
       "min      12.490000  \n",
       "25%      12.490000  \n",
       "50%      49.960000  \n",
       "75%      74.940000  \n",
       "max      99.920000  \n",
       "std      30.123443  "
      ]
     },
     "execution_count": 32,
     "metadata": {},
     "output_type": "execute_result"
    }
   ],
   "source": [
    "price = df[\"product_id\"].apply(\n",
    "    lambda x: (\n",
    "        float(re.search(r\"\\d+\\.\\d+\", x).group()) if re.search(r\"\\d+\\.\\d+\", x) else 0\n",
    "    )\n",
    ")\n",
    "price = price.unique()[0]\n",
    "df[\"price\"] = price\n",
    "\n",
    "user_revenue = df.groupby(\"user_id\")[\"price\"].sum()\n",
    "df[\"revenue\"] = df[\"user_id\"].map(user_revenue)\n",
    "\n",
    "frequency = df.groupby(\"user_id\").size()\n",
    "df = df.merge(frequency.rename(\"frequency\"), on=\"user_id\")\n",
    "\n",
    "df.describe()"
   ]
  },
  {
   "cell_type": "code",
   "execution_count": 33,
   "id": "a0587ca0-e771-4778-a8e1-cd273f2d097c",
   "metadata": {},
   "outputs": [
    {
     "data": {
      "text/plain": [
       "user_id                 561\n",
       "event_timestamp        1198\n",
       "first_purchase_time     559\n",
       "cohort_week               9\n",
       "product_id                1\n",
       "lifetime_months           8\n",
       "price                     1\n",
       "frequency                 8\n",
       "revenue                   8\n",
       "dtype: int64"
      ]
     },
     "execution_count": 33,
     "metadata": {},
     "output_type": "execute_result"
    }
   ],
   "source": [
    "# check how many unique values there are in each column\n",
    "\n",
    "df.nunique()"
   ]
  },
  {
   "cell_type": "markdown",
   "id": "09ec0117-3a11-4e4b-963e-47a823eaa8b3",
   "metadata": {},
   "source": [
    "### Save cleaned data as a CSV file"
   ]
  },
  {
   "cell_type": "code",
   "execution_count": 34,
   "id": "0b731bc6-6f7c-4cfc-9220-1007ff83b92b",
   "metadata": {},
   "outputs": [],
   "source": [
    "df.to_csv(\"../data/ltv_cleaned_data.csv\")"
   ]
  }
 ],
 "metadata": {
  "kernelspec": {
   "display_name": "Python 3 (ipykernel)",
   "language": "python",
   "name": "python3"
  },
  "language_info": {
   "codemirror_mode": {
    "name": "ipython",
    "version": 3
   },
   "file_extension": ".py",
   "mimetype": "text/x-python",
   "name": "python",
   "nbconvert_exporter": "python",
   "pygments_lexer": "ipython3",
   "version": "3.12.2"
  }
 },
 "nbformat": 4,
 "nbformat_minor": 5
}
