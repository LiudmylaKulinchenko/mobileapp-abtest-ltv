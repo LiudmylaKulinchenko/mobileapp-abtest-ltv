{
 "cells": [
  {
   "cell_type": "markdown",
   "id": "cd03f1a9-023e-4fbf-9f6c-71ea56b0d8f2",
   "metadata": {},
   "source": [
    "# Data Preparation"
   ]
  },
  {
   "cell_type": "markdown",
   "id": "7db86682-836d-4eb2-8bc3-537032f3e7da",
   "metadata": {},
   "source": [
    "### Import necessary libraries"
   ]
  },
  {
   "cell_type": "code",
   "execution_count": 31,
   "id": "463fec1f-915f-455b-919f-c5cdb431945f",
   "metadata": {},
   "outputs": [],
   "source": [
    "import pandas as pd"
   ]
  },
  {
   "cell_type": "markdown",
   "id": "3dac44f5-0cc1-4491-bc20-e016847c80cc",
   "metadata": {},
   "source": [
    "### Load data from the Google Sheet"
   ]
  },
  {
   "cell_type": "code",
   "execution_count": 32,
   "id": "3fd4b532-94a3-4297-b93f-e6793f44d3ed",
   "metadata": {},
   "outputs": [
    {
     "data": {
      "text/html": [
       "<div>\n",
       "<style scoped>\n",
       "    .dataframe tbody tr th:only-of-type {\n",
       "        vertical-align: middle;\n",
       "    }\n",
       "\n",
       "    .dataframe tbody tr th {\n",
       "        vertical-align: top;\n",
       "    }\n",
       "\n",
       "    .dataframe thead th {\n",
       "        text-align: right;\n",
       "    }\n",
       "</style>\n",
       "<table border=\"1\" class=\"dataframe\">\n",
       "  <thead>\n",
       "    <tr style=\"text-align: right;\">\n",
       "      <th></th>\n",
       "      <th>user_id</th>\n",
       "      <th>install_date</th>\n",
       "      <th>country</th>\n",
       "      <th>test_group</th>\n",
       "      <th>trial</th>\n",
       "      <th>paid</th>\n",
       "      <th>subscription_name</th>\n",
       "      <th>revenue_1m</th>\n",
       "    </tr>\n",
       "  </thead>\n",
       "  <tbody>\n",
       "    <tr>\n",
       "      <th>0</th>\n",
       "      <td>0000dd3fa4702a63d1b76aaffe1ab39b</td>\n",
       "      <td>2023-06-05</td>\n",
       "      <td>US</td>\n",
       "      <td>treatment</td>\n",
       "      <td>0</td>\n",
       "      <td>0</td>\n",
       "      <td>NaN</td>\n",
       "      <td>0.0</td>\n",
       "    </tr>\n",
       "    <tr>\n",
       "      <th>1</th>\n",
       "      <td>0001f27ab7e22228e54c8b2028b43f24</td>\n",
       "      <td>2023-06-07</td>\n",
       "      <td>AU</td>\n",
       "      <td>treatment</td>\n",
       "      <td>0</td>\n",
       "      <td>0</td>\n",
       "      <td>NaN</td>\n",
       "      <td>0.0</td>\n",
       "    </tr>\n",
       "    <tr>\n",
       "      <th>2</th>\n",
       "      <td>0006c5c547801308b36ea3cf669856ae</td>\n",
       "      <td>2023-06-07</td>\n",
       "      <td>AU</td>\n",
       "      <td>treatment</td>\n",
       "      <td>0</td>\n",
       "      <td>0</td>\n",
       "      <td>NaN</td>\n",
       "      <td>0.0</td>\n",
       "    </tr>\n",
       "    <tr>\n",
       "      <th>3</th>\n",
       "      <td>000d1a300263c5db91cbefa3852898a7</td>\n",
       "      <td>2023-06-07</td>\n",
       "      <td>AU</td>\n",
       "      <td>control</td>\n",
       "      <td>0</td>\n",
       "      <td>0</td>\n",
       "      <td>NaN</td>\n",
       "      <td>0.0</td>\n",
       "    </tr>\n",
       "    <tr>\n",
       "      <th>4</th>\n",
       "      <td>000e5e62e8746e467ed9f49ac5de3208</td>\n",
       "      <td>2023-06-06</td>\n",
       "      <td>US</td>\n",
       "      <td>treatment</td>\n",
       "      <td>0</td>\n",
       "      <td>0</td>\n",
       "      <td>NaN</td>\n",
       "      <td>0.0</td>\n",
       "    </tr>\n",
       "  </tbody>\n",
       "</table>\n",
       "</div>"
      ],
      "text/plain": [
       "                            user_id install_date country test_group  trial  \\\n",
       "0  0000dd3fa4702a63d1b76aaffe1ab39b   2023-06-05      US  treatment      0   \n",
       "1  0001f27ab7e22228e54c8b2028b43f24   2023-06-07      AU  treatment      0   \n",
       "2  0006c5c547801308b36ea3cf669856ae   2023-06-07      AU  treatment      0   \n",
       "3  000d1a300263c5db91cbefa3852898a7   2023-06-07      AU    control      0   \n",
       "4  000e5e62e8746e467ed9f49ac5de3208   2023-06-06      US  treatment      0   \n",
       "\n",
       "   paid subscription_name  revenue_1m  \n",
       "0     0               NaN         0.0  \n",
       "1     0               NaN         0.0  \n",
       "2     0               NaN         0.0  \n",
       "3     0               NaN         0.0  \n",
       "4     0               NaN         0.0  "
      ]
     },
     "execution_count": 32,
     "metadata": {},
     "output_type": "execute_result"
    }
   ],
   "source": [
    "sheet_id = \"1OHl5u6-31KyQSYHeLJBXAk9Xc4eiLPviXIlc6ycaTM4\"\n",
    "\n",
    "df = pd.read_csv(f\"https://docs.google.com/spreadsheets/d/{sheet_id}/export?format=csv\")\n",
    "\n",
    "df.to_csv(\"../data/ab_raw_data.csv\")\n",
    "\n",
    "df.head()"
   ]
  },
  {
   "cell_type": "markdown",
   "id": "db0487dd-b3be-4c4c-bda0-b960a14206ab",
   "metadata": {},
   "source": [
    "### Check data for a consistency, NaN values"
   ]
  },
  {
   "cell_type": "code",
   "execution_count": 33,
   "id": "1d1a9c9b-9ee6-4433-bc2f-a2bfce90fce3",
   "metadata": {},
   "outputs": [
    {
     "name": "stdout",
     "output_type": "stream",
     "text": [
      "<class 'pandas.core.frame.DataFrame'>\n",
      "RangeIndex: 15285 entries, 0 to 15284\n",
      "Data columns (total 8 columns):\n",
      " #   Column             Non-Null Count  Dtype  \n",
      "---  ------             --------------  -----  \n",
      " 0   user_id            15285 non-null  object \n",
      " 1   install_date       15285 non-null  object \n",
      " 2   country            15285 non-null  object \n",
      " 3   test_group         15285 non-null  object \n",
      " 4   trial              15285 non-null  int64  \n",
      " 5   paid               15285 non-null  int64  \n",
      " 6   subscription_name  1723 non-null   object \n",
      " 7   revenue_1m         15285 non-null  float64\n",
      "dtypes: float64(1), int64(2), object(5)\n",
      "memory usage: 955.4+ KB\n"
     ]
    }
   ],
   "source": [
    "df.info()"
   ]
  },
  {
   "cell_type": "code",
   "execution_count": 34,
   "id": "c43a94fa-6efb-4679-9d8d-2b39c1c1d620",
   "metadata": {},
   "outputs": [
    {
     "name": "stdout",
     "output_type": "stream",
     "text": [
      "<class 'pandas.core.frame.DataFrame'>\n",
      "RangeIndex: 15285 entries, 0 to 15284\n",
      "Data columns (total 8 columns):\n",
      " #   Column             Non-Null Count  Dtype         \n",
      "---  ------             --------------  -----         \n",
      " 0   user_id            15285 non-null  object        \n",
      " 1   install_date       15285 non-null  datetime64[ns]\n",
      " 2   country            15285 non-null  object        \n",
      " 3   test_group         15285 non-null  object        \n",
      " 4   trial              15285 non-null  int64         \n",
      " 5   paid               15285 non-null  int64         \n",
      " 6   subscription_name  1723 non-null   object        \n",
      " 7   revenue_1m         15285 non-null  float64       \n",
      "dtypes: datetime64[ns](1), float64(1), int64(2), object(4)\n",
      "memory usage: 955.4+ KB\n"
     ]
    }
   ],
   "source": [
    "# change install_date type to datetime\n",
    "\n",
    "df[\"install_date\"] = pd.to_datetime(df[\"install_date\"])\n",
    "\n",
    "df.info()"
   ]
  },
  {
   "cell_type": "code",
   "execution_count": 35,
   "id": "734ab59f-7571-43db-a565-be5f7841e740",
   "metadata": {},
   "outputs": [
    {
     "data": {
      "text/plain": [
       "trial    True\n",
       "paid     True\n",
       "dtype: bool"
      ]
     },
     "execution_count": 35,
     "metadata": {},
     "output_type": "execute_result"
    }
   ],
   "source": [
    "# check if trial and paid columns contains only 0 and 1 values\n",
    "\n",
    "df[[\"trial\", \"paid\"]].isin([0, 1]).all()"
   ]
  },
  {
   "cell_type": "code",
   "execution_count": 36,
   "id": "9299bd3f-a599-424a-9cc6-ebd8486b8701",
   "metadata": {},
   "outputs": [
    {
     "data": {
      "text/html": [
       "<div>\n",
       "<style scoped>\n",
       "    .dataframe tbody tr th:only-of-type {\n",
       "        vertical-align: middle;\n",
       "    }\n",
       "\n",
       "    .dataframe tbody tr th {\n",
       "        vertical-align: top;\n",
       "    }\n",
       "\n",
       "    .dataframe thead th {\n",
       "        text-align: right;\n",
       "    }\n",
       "</style>\n",
       "<table border=\"1\" class=\"dataframe\">\n",
       "  <thead>\n",
       "    <tr style=\"text-align: right;\">\n",
       "      <th></th>\n",
       "      <th>install_date</th>\n",
       "      <th>trial</th>\n",
       "      <th>paid</th>\n",
       "      <th>revenue_1m</th>\n",
       "    </tr>\n",
       "  </thead>\n",
       "  <tbody>\n",
       "    <tr>\n",
       "      <th>count</th>\n",
       "      <td>15285</td>\n",
       "      <td>15285.000000</td>\n",
       "      <td>15285.000000</td>\n",
       "      <td>15285.000000</td>\n",
       "    </tr>\n",
       "    <tr>\n",
       "      <th>mean</th>\n",
       "      <td>2023-06-04 01:01:08.537782272</td>\n",
       "      <td>0.112725</td>\n",
       "      <td>0.017337</td>\n",
       "      <td>0.097297</td>\n",
       "    </tr>\n",
       "    <tr>\n",
       "      <th>min</th>\n",
       "      <td>2023-06-01 00:00:00</td>\n",
       "      <td>0.000000</td>\n",
       "      <td>0.000000</td>\n",
       "      <td>0.000000</td>\n",
       "    </tr>\n",
       "    <tr>\n",
       "      <th>25%</th>\n",
       "      <td>2023-06-02 00:00:00</td>\n",
       "      <td>0.000000</td>\n",
       "      <td>0.000000</td>\n",
       "      <td>0.000000</td>\n",
       "    </tr>\n",
       "    <tr>\n",
       "      <th>50%</th>\n",
       "      <td>2023-06-04 00:00:00</td>\n",
       "      <td>0.000000</td>\n",
       "      <td>0.000000</td>\n",
       "      <td>0.000000</td>\n",
       "    </tr>\n",
       "    <tr>\n",
       "      <th>75%</th>\n",
       "      <td>2023-06-06 00:00:00</td>\n",
       "      <td>0.000000</td>\n",
       "      <td>0.000000</td>\n",
       "      <td>0.000000</td>\n",
       "    </tr>\n",
       "    <tr>\n",
       "      <th>max</th>\n",
       "      <td>2023-06-07 00:00:00</td>\n",
       "      <td>1.000000</td>\n",
       "      <td>1.000000</td>\n",
       "      <td>11.960000</td>\n",
       "    </tr>\n",
       "    <tr>\n",
       "      <th>std</th>\n",
       "      <td>NaN</td>\n",
       "      <td>0.316267</td>\n",
       "      <td>0.130529</td>\n",
       "      <td>0.782339</td>\n",
       "    </tr>\n",
       "  </tbody>\n",
       "</table>\n",
       "</div>"
      ],
      "text/plain": [
       "                        install_date         trial          paid    revenue_1m\n",
       "count                          15285  15285.000000  15285.000000  15285.000000\n",
       "mean   2023-06-04 01:01:08.537782272      0.112725      0.017337      0.097297\n",
       "min              2023-06-01 00:00:00      0.000000      0.000000      0.000000\n",
       "25%              2023-06-02 00:00:00      0.000000      0.000000      0.000000\n",
       "50%              2023-06-04 00:00:00      0.000000      0.000000      0.000000\n",
       "75%              2023-06-06 00:00:00      0.000000      0.000000      0.000000\n",
       "max              2023-06-07 00:00:00      1.000000      1.000000     11.960000\n",
       "std                              NaN      0.316267      0.130529      0.782339"
      ]
     },
     "execution_count": 36,
     "metadata": {},
     "output_type": "execute_result"
    }
   ],
   "source": [
    "df.describe()"
   ]
  },
  {
   "cell_type": "code",
   "execution_count": 37,
   "id": "5e1b456f-0e7e-4c71-9a84-0f666626fb7f",
   "metadata": {},
   "outputs": [
    {
     "name": "stdout",
     "output_type": "stream",
     "text": [
      "<class 'pandas.core.frame.DataFrame'>\n",
      "RangeIndex: 15285 entries, 0 to 15284\n",
      "Data columns (total 8 columns):\n",
      " #   Column             Non-Null Count  Dtype         \n",
      "---  ------             --------------  -----         \n",
      " 0   user_id            15285 non-null  object        \n",
      " 1   install_date       15285 non-null  datetime64[ns]\n",
      " 2   country            15285 non-null  object        \n",
      " 3   test_group         15285 non-null  object        \n",
      " 4   trial              15285 non-null  int64         \n",
      " 5   paid               15285 non-null  int64         \n",
      " 6   subscription_name  1723 non-null   object        \n",
      " 7   revenue_1m         15285 non-null  float64       \n",
      "dtypes: datetime64[ns](1), float64(1), int64(2), object(4)\n",
      "memory usage: 955.4+ KB\n"
     ]
    }
   ],
   "source": [
    "df.info()"
   ]
  },
  {
   "cell_type": "code",
   "execution_count": 38,
   "id": "37686306-3592-4578-8169-bd939315fc2b",
   "metadata": {},
   "outputs": [
    {
     "data": {
      "text/plain": [
       "True"
      ]
     },
     "execution_count": 38,
     "metadata": {},
     "output_type": "execute_result"
    }
   ],
   "source": [
    "# make sure each user id is unique\n",
    "\n",
    "df[\"user_id\"].is_unique"
   ]
  },
  {
   "cell_type": "code",
   "execution_count": 39,
   "id": "0f13f8f3-6bdb-40c1-8eb2-951a9b4855fe",
   "metadata": {},
   "outputs": [
    {
     "data": {
      "text/plain": [
       "array(['US', 'AU', 'CA', 'GB'], dtype=object)"
      ]
     },
     "execution_count": 39,
     "metadata": {},
     "output_type": "execute_result"
    }
   ],
   "source": [
    "# check if text columns are consistent\n",
    "\n",
    "df[\"country\"].unique()"
   ]
  },
  {
   "cell_type": "code",
   "execution_count": 40,
   "id": "19f1e9cb-3be3-4412-9007-70d7bd37539c",
   "metadata": {},
   "outputs": [
    {
     "data": {
      "text/plain": [
       "array(['treatment', 'control'], dtype=object)"
      ]
     },
     "execution_count": 40,
     "metadata": {},
     "output_type": "execute_result"
    }
   ],
   "source": [
    "df[\"test_group\"].unique()"
   ]
  },
  {
   "cell_type": "code",
   "execution_count": 41,
   "id": "7df69458-2537-47ff-b3ab-819a36a8d800",
   "metadata": {},
   "outputs": [
    {
     "data": {
      "text/plain": [
       "array([nan, 'monthly.5.99.3d.trial', 'weekly.2.99.3d.trial'], dtype=object)"
      ]
     },
     "execution_count": 41,
     "metadata": {},
     "output_type": "execute_result"
    }
   ],
   "source": [
    "df[\"subscription_name\"].unique()"
   ]
  },
  {
   "cell_type": "markdown",
   "id": "c75fe8b8-cbd1-47cb-bcdd-f8b8bcabaa57",
   "metadata": {},
   "source": [
    "### Save cleaned data as a CSV file"
   ]
  },
  {
   "cell_type": "code",
   "execution_count": 42,
   "id": "e83e574a-5a05-495d-89bc-2f039666ff62",
   "metadata": {},
   "outputs": [],
   "source": [
    "df.to_csv(\"../data/ab_cleaned_data.csv\")"
   ]
  },
  {
   "cell_type": "markdown",
   "id": "cfaa5fc9-2e23-49b0-a2f5-a9280835a189",
   "metadata": {},
   "source": [
    "### Create a summary dataframe for analysis and save it as a CSV file"
   ]
  },
  {
   "cell_type": "code",
   "execution_count": 43,
   "id": "38d8c4a9-7dc9-4737-8027-5a01c3607542",
   "metadata": {},
   "outputs": [
    {
     "data": {
      "text/html": [
       "<div>\n",
       "<style scoped>\n",
       "    .dataframe tbody tr th:only-of-type {\n",
       "        vertical-align: middle;\n",
       "    }\n",
       "\n",
       "    .dataframe tbody tr th {\n",
       "        vertical-align: top;\n",
       "    }\n",
       "\n",
       "    .dataframe thead th {\n",
       "        text-align: right;\n",
       "    }\n",
       "</style>\n",
       "<table border=\"1\" class=\"dataframe\">\n",
       "  <thead>\n",
       "    <tr style=\"text-align: right;\">\n",
       "      <th></th>\n",
       "      <th>test_group</th>\n",
       "      <th>total_visitors</th>\n",
       "      <th>conversions</th>\n",
       "      <th>trial_starters</th>\n",
       "    </tr>\n",
       "  </thead>\n",
       "  <tbody>\n",
       "    <tr>\n",
       "      <th>0</th>\n",
       "      <td>control</td>\n",
       "      <td>7627</td>\n",
       "      <td>116</td>\n",
       "      <td>925</td>\n",
       "    </tr>\n",
       "    <tr>\n",
       "      <th>1</th>\n",
       "      <td>treatment</td>\n",
       "      <td>7658</td>\n",
       "      <td>149</td>\n",
       "      <td>798</td>\n",
       "    </tr>\n",
       "  </tbody>\n",
       "</table>\n",
       "</div>"
      ],
      "text/plain": [
       "  test_group  total_visitors  conversions  trial_starters\n",
       "0    control            7627          116             925\n",
       "1  treatment            7658          149             798"
      ]
     },
     "execution_count": 43,
     "metadata": {},
     "output_type": "execute_result"
    }
   ],
   "source": [
    "analysis_df = (\n",
    "    df.groupby(\"test_group\")\n",
    "    .agg(\n",
    "        total_visitors=pd.NamedAgg(column=\"user_id\", aggfunc=\"count\"),\n",
    "        conversions=pd.NamedAgg(column=\"paid\", aggfunc=\"sum\"),\n",
    "        trial_starters=pd.NamedAgg(column=\"trial\", aggfunc=\"sum\"),\n",
    "    )\n",
    "    .reset_index()\n",
    ")\n",
    "\n",
    "analysis_df.head()"
   ]
  },
  {
   "cell_type": "code",
   "execution_count": 44,
   "id": "093fd0a6-5e60-4726-8a27-53ab95f64f2f",
   "metadata": {},
   "outputs": [],
   "source": [
    "analysis_df.to_csv(\"../data/ab_analysis_data.csv\")"
   ]
  }
 ],
 "metadata": {
  "kernelspec": {
   "display_name": "Python 3 (ipykernel)",
   "language": "python",
   "name": "python3"
  },
  "language_info": {
   "codemirror_mode": {
    "name": "ipython",
    "version": 3
   },
   "file_extension": ".py",
   "mimetype": "text/x-python",
   "name": "python",
   "nbconvert_exporter": "python",
   "pygments_lexer": "ipython3",
   "version": "3.10.7"
  }
 },
 "nbformat": 4,
 "nbformat_minor": 5
}
